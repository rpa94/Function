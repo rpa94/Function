{
  "nbformat": 4,
  "nbformat_minor": 0,
  "metadata": {
    "colab": {
      "provenance": []
    },
    "kernelspec": {
      "name": "python3",
      "display_name": "Python 3"
    },
    "language_info": {
      "name": "python"
    }
  },
  "cells": [
    {
      "cell_type": "code",
      "execution_count": null,
      "metadata": {
        "id": "Td3oVT0OBgzu"
      },
      "outputs": [],
      "source": []
    },
    {
      "cell_type": "markdown",
      "source": [
        "Theory Questions:\n",
        "\n",
        "Que 1. What is the difference between a function and a method in Python.\n",
        "\n",
        "Ans. In Python, both functions and methods are blocks of code designed to perform specific tasks, but they have distinct differences in their usage and context.\n",
        "\n",
        "A function is a block of code that is defined independently and can be called by its name. Functions can have parameters and return values, but they are not associated with any class or object. They are defined using the def keyword and can be called directly by their name.\n",
        "\n",
        "Example of a Function:\n",
        "\n",
        "def add(a,b):\n",
        "  return a+b\n",
        "call the function\n",
        "result = add(2,3)\n",
        "print(result)\n",
        "output :5\n",
        "\n",
        "A method is similar to a function but is associated with an object. Methods are defined within a class and can operate on the data contained within the class (instance variables). They always include self as the first parameter, which refers to the instance of the class.\n",
        "\n",
        "Que.2 Explain the concept of function arguments and parameters in Python.\n",
        "\n",
        "Ans.  Parameters,  are variables defined in a function declaration. This act as placeholders for the values (arguments) that will be passed to the function.\n",
        "\n",
        "Example:\n",
        "         def(sum a,b)\n",
        "         print(a+b)\n",
        "         sum(1,2)\n",
        "output:  (3)\n",
        "    # here a,b are the parameteres\n",
        "\n",
        "Arguments,  are the actual values that you pass to the function when you call it. These values replace the parameters defined in the function\n",
        "\n",
        "Example:\n",
        "          def(sum a,b)\n",
        "          print(a+b)\n",
        "          sum(1,2)\n",
        "output:    (3)\n",
        "# here the value 1,2 are arguments\n",
        "\n",
        "Que.3 . What are the different ways to define and call a function in Python?\n",
        "\n",
        "Ans.In Python, defining and calling functions is simple and may greatly improve the readability and reusability of our code.\n",
        "\n",
        "Defining a Function:\n",
        "\n",
        "By using the word def keyword followed by the function's name and parentheses () we can define a function. If the function takes any arguments, they are included inside the parentheses. The code inside a function must be indented after the colon to indicate it belongs to that function.\n",
        "Example:\n",
        "\n",
        "   def fun():\n",
        "    print(\"Welcome to home\")\n",
        "# Defining a function with parameters    \n",
        "def greet(name, age):\n",
        "    print(name, age)\n",
        "\n",
        "Calling a Function:\n",
        "\n",
        "To call a function in Python, we definitely type the name of the function observed via parentheses (). If the function takes any arguments, they may be covered within the parentheses .\n",
        "Example:\n",
        "\n",
        "     def greet(name, age):\n",
        "     print(name,age)\n",
        "#calling a function by passing arguments\n",
        "greet(\"Reena\",\"32\")\n",
        "\n",
        "\n",
        "Que.4 . What is the purpose of the `return` statement in a Python function?\n",
        "\n",
        "Ans. A return statement is used to end the execution of the function call and it “returns” the value of the expression following the return keyword to the caller. The statements after the return statements are not executed. If the return statement is without any expression, then the special value None is returned.\n",
        "\n",
        "Example:\n",
        "         def(a,b):\n",
        "         return(a+b)\n",
        "         print(5,3)\n",
        "output   (8)\n",
        "\n",
        "Que.5 What are iterators in Python and how do they differ from iterable.\n",
        "\n",
        "Ans.Anything which we can loop or iterate over is called an iterable in Python. When we pass an iterable object into the iter() function in Python, it returns an iterator.\n",
        "\n",
        "In Python, an iterator is an object which is obtained from an iterable object by passing it to the iter() function. An iterator holds a countable number of values that can be iterated upon. An iterator is used to iterate over the iterable objects like lists, strings, tuples, etc. in Python. On the iteration of an iterator, it returns each element one by one.\n",
        "\n",
        " Every iterable object in Python is not an iterator but every iterator is iterable.\n",
        "\n",
        "Example:\n",
        "         tuple = (\"apple\", \"banana\", \"cherry\")\n",
        "         myit = iter(tuple)\n",
        "\n",
        "        print(next(myit))\n",
        "        print(next(myit))\n",
        "        print(next(myit))\n",
        "output:   \"apple\"\n",
        "          \"banana\"\n",
        "\n",
        "Que 6 Explain the concept of generators in Python and how they are defined.\n",
        "\n",
        "Ans.n Python, a generator is a function that returns an iterator that produces a sequence of values when iterated over. Generators are useful when we want to produce a large sequence of values, but we don't want to store all of them in memory at once.\n",
        "\n",
        " similar to defining a normal function, we can define a generator function using the def keyword, but instead of the return statement we use the yield statement.\n",
        "\n",
        "def generator_name(arg):\n",
        "    # statements\n",
        "    yield something\n",
        "\n",
        "    Here, the yield keyword is used to produce a value from the generator.\n",
        "\n",
        "When the generator function is called, it does not execute the function body immediately. Instead, it returns a generator object that can be iterated over to produce the values.\n",
        "\n",
        " Here, the yield keyword is used to produce a value from the generator.\n",
        "\n",
        "When the generator function is called, it does not execute the function body immediately. Instead, it returns a generator object that can be iterated over to produce the values.\n",
        "\n",
        "\n",
        "Que.7 What are the advantages of using generators over regular functions?\n",
        "\n",
        "Ans.A generator function in Python is defined like a normal function, but whenever it needs to generate a value, it does so with the yield keyword rather than return. If the body of a def contains yield, the function automatically becomes a Python generator function.\n",
        "\n",
        "Advantages:\n",
        "\n",
        "     * Memory Efficiency:   Generators generate values on the fly, reducing memory usage compared to storing the entire sequence in memory.\n",
        "\n",
        "\n",
        " * Lazy Evaluation: Values are computed only when needed, which can lead to performance improvements, especially with large datasets.\n",
        "\n",
        "\n",
        "* Maintain State: Generators automatically maintain their state between yield statements, making them suitable for iterative processes.\n",
        "\n",
        "\n",
        " * Convenience: Generators simplify code for iterating over large datasets or streams of data without needing to manage state\n",
        " explicitly.\n",
        "\n",
        "\n",
        "Que.8 What is a lambda function in Python and when is it typically used?\n",
        "\n",
        "Ans.Lambda functions, also known as anonymous functions, are a feature in Python that allows the creation of small, one-expression functions without a name. They are defined using the lambda keyword, which is why they are often referred to as \"lambda functions\".\n",
        "\n",
        "Example:\n",
        "\n",
        "add_ten = lambda a: a + 10\n",
        "print(add_ten(5))\n",
        "\n",
        "# Output: 15\n",
        "\n",
        "Uses:\n",
        "\n",
        "Lambda functions are particularly useful when you need a simple function for a short period and when function objects are required. They are commonly used with higher-order functions like map(), filter(), and sorted().\n",
        "\n",
        "Que.9  Explain the purpose and usage of the `map()` function in Python.\n",
        "\n",
        "Ans. The map () function returns a map object(which is an iterator) of the results after applying the given function to each item of a given iterable (list, tuple, etc.).\n",
        "\n",
        "Syntax: map(fun, iter)\n",
        "Example:\n",
        "\n",
        "num1 = [1, 2, 3]\n",
        "num2 = [10, 20, 40]\n",
        "\n",
        "# add corresponding items from the num1 and num2 lists\n",
        "result = map(lambda n1, n2: n1+n2, num1, num2)\n",
        "print(list(result))\n",
        "\n",
        "ouput:[11,22,43]\n",
        "\n",
        "Usage:\n",
        "     * Map with Lambda Functions:\n",
        "\n",
        "Lambda functions are often used with map for inline processing. Here's an example that doubles each number in a tuple:\n",
        "\n",
        "numbers = (1, 2, 3, 4)\n",
        "result = map(lambda x: x + x, numbers)\n",
        "print(list(result))\n",
        "output: [2,4,6,8]\n",
        "\n",
        " * Combining Iterables with map:\n",
        " The map function can also be used to combine multiple iterables. The function passed to map should have the same number of parameters as there are iterables.\n",
        "\n",
        " numbers1 = [1, 2, 3]\n",
        "numbers2 = [4, 5, 6]\n",
        "result = map(lambda x, y: x + y, numbers1, numbers2)\n",
        "print(list(result))\n",
        "output: [5,7,9]\n",
        "\n",
        " * Modifying Strings with map:\n",
        "\n",
        "Map can also be used to modify strings in a list. For instance, converting a list of strings to a list of lists where each string is split into its characters:\n",
        "\n",
        "l = ['sat', 'bat', 'cat', 'mat']\n",
        "test = list(map(list, l))\n",
        "print(test)\n",
        "Output: [['s', 'a', 't'], ['b', 'a', 't'], ['c', 'a', 't'], ['m', 'a', 't']]\n",
        "\n",
        "Que.10 What is the difference between `map()`, `reduce()`, and `filter()` functions in Python?\n",
        "\n",
        "Ans.As mentioned earlier, map(), filter() and reduce() are inbuilt functions of Python. These functions enable the functional programming aspect of Python. In functional programming, the arguments passed are the only factors that decide upon the output. These functions can take any other function as a parameter and can be supplied to other functions as parameters as well.\n",
        "\n",
        "  The key differences between `map()`, `reduce()`, and `filter()` functions:\n",
        "`* map()`: Applies a function to all items in an input list and returns a new list with the results.\n",
        "\n",
        "*`filter()`: Filters elements from an input list based on a given function and returns a new list with the filtered elements.\n",
        "\n",
        "*`reduce()`: Applies a function cumulatively to the items in an input list and returns a single value.\n",
        "Example:\n",
        "        def double(n)\n",
        "        return n * 2\n",
        "Using map to double all numbers\n",
        "numbers = [5, 6, 7, 8]\n",
        "result = map(double, numbers)\n",
        "print(list(result))\n",
        "output:[10,12,14,16]\n",
        "\n",
        "\n",
        "import functools\n",
        "\n",
        "# Define a list of numbers\n",
        "numbers = [1, 2, 3, 4]\n",
        "# Use reduce to compute the product of list elements\n",
        "product = functools.reduce(lambda x, y: x * y, numbers)\n",
        "print(\"Product of list elements:\", product)\n",
        "\n",
        "\n",
        "\n",
        "\n",
        "# Define a function to check if a number is even\n",
        "def is_even(n):\n",
        "    return n % 2 == 0\n",
        "\n",
        "# Define a list of numbers\n",
        "numbers = [1, 2, 3, 4, 5, 6, 7, 8, 9, 10]\n",
        "\n",
        "# Use filter to filter out even numbers\n",
        "even_numbers = filter(is_even, numbers)\n",
        "print(\"Even numbers:\", list(even_numbers))\n",
        "output: Even numbers: [2, 4, 6, 8, 10]\n",
        "\n",
        "Que.11  Using pen & Paper write the internal mechanism for sum operation using  reduce function on this given\n",
        "list:[47,11,42,13]\n",
        "\n",
        "Ans.from functools import reduce\n",
        "\n",
        "# Function to add two numbers\n",
        "def add(x, y):\n",
        "    return x + y\n",
        "\n",
        "a = [47, 11, 42, 13]\n",
        "res = reduce(add, a)\n",
        "\n",
        "print(res)\n",
        "output:113\n",
        "\n",
        "Explanation:\n",
        "\n",
        "The reduce() function applies add() cumulatively to the elements in numbers. First, 47+11=58. Then, 58 + 42 = 100. And so on, until all numbers are processed.\n",
        "The final result is 113.\n",
        "\n",
        ".\n",
        "\n",
        "\n",
        "Practical Questions:\n",
        "\n",
        "Que.1. Write a Python function that takes a list of numbers as input and returns the sum of all even numbers in\n",
        "the list.\n",
        "\n",
        "Ans.\n",
        "\n",
        "\n",
        "\n",
        "\n",
        "\n",
        "\n",
        "\n",
        "\n",
        "\n"
      ],
      "metadata": {
        "id": "3Yg4_STmBsRz"
      }
    },
    {
      "cell_type": "markdown",
      "source": [],
      "metadata": {
        "id": "Ko7JR_-rgjz4"
      }
    },
    {
      "cell_type": "code",
      "source": [
        "def sum_of_even_numbers(numbers):\n",
        "    sum_even = 0\n",
        "    for num in numbers:\n",
        "        if num % 2 == 0:\n",
        "            sum_even += num\n",
        "    return sum_even\n",
        "numbers =[1,2,3,4,5,6]\n",
        "print(sum_of_even_numbers(numbers))"
      ],
      "metadata": {
        "colab": {
          "base_uri": "https://localhost:8080/"
        },
        "id": "UsNSpoUifAUB",
        "outputId": "6ca94f5e-45b4-4331-d6f1-7ef86c1782ae"
      },
      "execution_count": null,
      "outputs": [
        {
          "output_type": "stream",
          "name": "stdout",
          "text": [
            "12\n"
          ]
        }
      ]
    },
    {
      "cell_type": "markdown",
      "source": [
        "Que.2 Create a Python function that accepts a string and returns the reverse of that string.\n",
        "\n",
        "Ans"
      ],
      "metadata": {
        "id": "gXxO7nPQgxd-"
      }
    },
    {
      "cell_type": "code",
      "source": [
        "def reverse_string(s):\n",
        "    return s[::-1]\n",
        "\n",
        "input_string = \"Hello, World!\"\n",
        "reversed_string = reverse_string(input_string)\n",
        "print(reversed_string)"
      ],
      "metadata": {
        "colab": {
          "base_uri": "https://localhost:8080/"
        },
        "id": "GJmZGh2Kg87p",
        "outputId": "9727cad4-b64c-40b5-9cb2-b6338d3f26b0"
      },
      "execution_count": null,
      "outputs": [
        {
          "output_type": "stream",
          "name": "stdout",
          "text": [
            "!dlroW ,olleH\n"
          ]
        }
      ]
    },
    {
      "cell_type": "markdown",
      "source": [
        "Que.3  Implement a Python function that takes a list of integers and returns a new list containing the squares of\n",
        "each number.\n",
        "\n",
        "Ans."
      ],
      "metadata": {
        "id": "X-aL2_lHhYNw"
      }
    },
    {
      "cell_type": "code",
      "source": [
        "def square_numbers(numbers):\n",
        "    return [x**2 for x in numbers]\n",
        "numbers = [1, 2, 3, 4, 5]\n",
        "squared_numbers = square_numbers(numbers)\n",
        "print(squared_numbers)"
      ],
      "metadata": {
        "colab": {
          "base_uri": "https://localhost:8080/"
        },
        "id": "e1YOlABChhuN",
        "outputId": "e566dd5b-2761-4a7f-ed58-d03f027d370f"
      },
      "execution_count": null,
      "outputs": [
        {
          "output_type": "stream",
          "name": "stdout",
          "text": [
            "[1, 4, 9, 16, 25]\n"
          ]
        }
      ]
    },
    {
      "cell_type": "markdown",
      "source": [
        "Que.4  Write a Python function that checks if a given number is prime or not from 1 to 200.\n",
        "\n",
        "Ans."
      ],
      "metadata": {
        "id": "L--oZIqNh4Fv"
      }
    },
    {
      "cell_type": "code",
      "source": [
        "import math\n",
        "\n",
        "def is_prime(n):\n",
        "    if n <= 1:\n",
        "        return False\n",
        "    for i in range(2, int(math.sqrt(n)) + 1):\n",
        "        if n % i == 0:\n",
        "            return False\n",
        "    return True\n",
        "    for num in range(1, 201):\n",
        "      if is_prime(num):\n",
        "        print(f\"{num} is a prime number\")\n",
        "    else:\n",
        "        print(f\"{num} is not a prime number\")\n"
      ],
      "metadata": {
        "id": "7rptCrHWiAOZ"
      },
      "execution_count": null,
      "outputs": []
    },
    {
      "cell_type": "code",
      "source": [
        "print(is_prime)"
      ],
      "metadata": {
        "colab": {
          "base_uri": "https://localhost:8080/"
        },
        "id": "EgwXv-Fze9bB",
        "outputId": "481ba0c5-68b8-4f03-e2ba-8d8c88890c78"
      },
      "execution_count": null,
      "outputs": [
        {
          "output_type": "stream",
          "name": "stdout",
          "text": [
            "<function is_prime at 0x7e2e45ee8160>\n"
          ]
        }
      ]
    },
    {
      "cell_type": "markdown",
      "source": [
        "Que.5 Create an iterator class in Python that generates the Fibonacci sequence up to a specified number of\n",
        "terms.\n",
        "\n",
        "Ans."
      ],
      "metadata": {
        "id": "D50GWvOIlWQj"
      }
    },
    {
      "cell_type": "code",
      "source": [
        "n = 10\n",
        "num1 = 0\n",
        "num2 = 1\n",
        "next_number = num2\n",
        "count = 1\n",
        "\n",
        "while count <= n:\n",
        "    print(next_number, end=\" \")\n",
        "    count += 1\n",
        "    num1, num2 = num2, next_number\n",
        "    next_number = num1 + num2\n",
        "print()\n"
      ],
      "metadata": {
        "colab": {
          "base_uri": "https://localhost:8080/"
        },
        "id": "P3AFA2hYlgRx",
        "outputId": "1eeaae49-0fc8-4fd3-a84a-386a4cd78a74"
      },
      "execution_count": null,
      "outputs": [
        {
          "output_type": "stream",
          "name": "stdout",
          "text": [
            "1 2 3 5 8 13 21 34 55 89 \n"
          ]
        }
      ]
    },
    {
      "cell_type": "markdown",
      "source": [
        "Que.6  Write a generator function in Python that yields the powers of 2 up to a given exponent.\n",
        "\n",
        "Ans."
      ],
      "metadata": {
        "id": "vCDCwaCimzNK"
      }
    },
    {
      "cell_type": "code",
      "source": [
        "def powers_of_two(exponent):\n",
        "    for i in range(exponent + 1):\n",
        "        yield 2 ** i\n",
        "for power in powers_of_two(5):\n",
        "    print(power)"
      ],
      "metadata": {
        "colab": {
          "base_uri": "https://localhost:8080/"
        },
        "id": "lkHpEtv4m-DC",
        "outputId": "5617cde7-eba6-456a-939a-58c21874348e"
      },
      "execution_count": null,
      "outputs": [
        {
          "output_type": "stream",
          "name": "stdout",
          "text": [
            "1\n",
            "2\n",
            "4\n",
            "8\n",
            "16\n",
            "32\n"
          ]
        }
      ]
    },
    {
      "cell_type": "markdown",
      "source": [
        "Que. 7 Implement a generator function that reads a file line by line and yields each line as a string.\n"
      ],
      "metadata": {
        "id": "3-6liXSEnBky"
      }
    },
    {
      "cell_type": "code",
      "source": [
        "def process_log_file(log_file_path):\n",
        "    with open(log_file_path, 'r') as file:\n",
        "        for line in file:\n",
        "            # Process each line of the log file here\n",
        "            yield line\n",
        "\n",
        "# Use generator to process the log file\n",
        "log_file_path = '/Path/To/The/file.txt'\n",
        "log_generator = process_log_file(log_file_path)\n",
        "\n",
        "for log_entry in log_generator:\n",
        "    # perform actions on each log entry\n",
        "    print(log_entry)"
      ],
      "metadata": {
        "id": "t-FYE4bKnJYa"
      },
      "execution_count": null,
      "outputs": []
    },
    {
      "cell_type": "markdown",
      "source": [
        "Que.8  Use a lambda function in Python to sort a list of tuples based on the second element of each tuple.\n",
        "\n",
        "Ans."
      ],
      "metadata": {
        "id": "P_n6cbv5tF2h"
      }
    },
    {
      "cell_type": "code",
      "source": [
        "\n",
        "list_of_tuples = [('apple', 25), ('banana', 54), ('cherry', 10), ('fig', 36)]\n",
        "sorted_list = sorted(list_of_tuples, key=lambda x: x[1])\n",
        "print(sorted_list)"
      ],
      "metadata": {
        "colab": {
          "base_uri": "https://localhost:8080/"
        },
        "id": "vKOmv0O7tna3",
        "outputId": "5a6d7772-cf2d-45bc-addc-a130f5a1c354"
      },
      "execution_count": null,
      "outputs": [
        {
          "output_type": "stream",
          "name": "stdout",
          "text": [
            "[('cherry', 10), ('apple', 25), ('fig', 36), ('banana', 54)]\n"
          ]
        }
      ]
    },
    {
      "cell_type": "markdown",
      "source": [
        "Que. 9 Write a Python program that uses `map()` to convert a list of temperatures from Celsius to Fahrenheit\n"
      ],
      "metadata": {
        "id": "8tlq8jLwnP5Y"
      }
    },
    {
      "cell_type": "code",
      "source": [
        "\n",
        "def celsius_to_fahrenheit(celsius):\n",
        "    return (celsius * 9/5) + 32\n",
        "celsius_temperatures = [0, 20, 37, 100]\n",
        "fahrenheit_temperatures = list(map(celsius_to_fahrenheit, celsius_temperatures))\n",
        "print(\"Temperatures in Fahrenheit:\", fahrenheit_temperatures)"
      ],
      "metadata": {
        "colab": {
          "base_uri": "https://localhost:8080/"
        },
        "id": "KfCFTY7VnZxZ",
        "outputId": "6c6cbf31-e677-4580-e43a-c25b3c97951d"
      },
      "execution_count": null,
      "outputs": [
        {
          "output_type": "stream",
          "name": "stdout",
          "text": [
            "Temperatures in Fahrenheit: [32.0, 68.0, 98.6, 212.0]\n"
          ]
        }
      ]
    },
    {
      "cell_type": "markdown",
      "source": [
        "Que.10 0. Create a Python program that uses `filter()` to remove all the vowels from a given string\n",
        "\n"
      ],
      "metadata": {
        "id": "a_WKYdHvn9Ey"
      }
    },
    {
      "cell_type": "code",
      "source": [
        "def remove_vowels(input_string):\n",
        "    vowels = 'aeiouAEIOU'\n",
        "    return ''.join(filter(lambda char: char not in vowels, input_string))\n",
        "\n",
        "# Example usage\n",
        "input_string = \"Hello, World!\"\n",
        "result = remove_vowels(input_string)\n",
        "print(result)  # Output: \"Hll, Wrld!\""
      ],
      "metadata": {
        "colab": {
          "base_uri": "https://localhost:8080/"
        },
        "id": "5pPf_RWFoETA",
        "outputId": "72e357c4-c518-47db-8a14-c58fac63d5ba"
      },
      "execution_count": null,
      "outputs": [
        {
          "output_type": "stream",
          "name": "stdout",
          "text": [
            "Hll, Wrld!\n"
          ]
        }
      ]
    },
    {
      "cell_type": "code",
      "source": [],
      "metadata": {
        "id": "yQLV3suQvWkL"
      },
      "execution_count": null,
      "outputs": []
    },
    {
      "cell_type": "markdown",
      "source": [
        "Que.11 magine an accounting routine used in a book shop. It works on a list with sublists, which look like this:\n",
        "order no   book title and author  quantity    price per item\n",
        "34587      learning python,mark lutz    4       40.95\n",
        "98762      programming python mark lutz  5       56.80\n",
        "77226      head first python paul berry   3      32.95\n",
        "88112      einfuhrungin python3,bernd klein 3    24.9\n",
        "\n",
        "Write a Python program, which returns a list with 2-tuples. Each tuple consists of the order number and the\n",
        "product of the price per item and the quantity. The product should be increased by 10,- € if the value of the\n",
        "order is smaller than 100,00 €.\n",
        "\n",
        "Write a Python program using lambda and map"
      ],
      "metadata": {
        "id": "Pj06s1IXvZjI"
      }
    },
    {
      "cell_type": "code",
      "source": [
        "book_shop=[\n",
        "    [34587, 'Learning python,Mark lutz', 4, 40.95 ],\n",
        "[98762, 'Programming python Mark lutz', 5, 56.80],\n",
        "[77226, 'Head first python paul berry', 3, 32.95],\n",
        "[88112, 'Einfuhrungin python3,bernd klein', 3, 24.9]\n",
        "]\n",
        "final_list=list(map(lambda order:(order[0],order[2]*order[3]+10 if (order[2]*order[3])<100 else order[2]*order[3]),book_shop))\n",
        "print(final_list)"
      ],
      "metadata": {
        "colab": {
          "base_uri": "https://localhost:8080/"
        },
        "id": "FBs09TeI9T2I",
        "outputId": "b7b97ddc-f05b-458d-a55b-e63d67f9645e"
      },
      "execution_count": null,
      "outputs": [
        {
          "output_type": "stream",
          "name": "stdout",
          "text": [
            "[(34587, 163.8), (98762, 284.0), (77226, 108.85000000000001), (88112, 84.69999999999999)]\n"
          ]
        }
      ]
    }
  ]
}